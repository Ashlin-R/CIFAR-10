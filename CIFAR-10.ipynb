{
 "cells": [
  {
   "cell_type": "code",
   "execution_count": 28,
   "metadata": {},
   "outputs": [],
   "source": [
    "import tensorflow as tf\n",
    "from tensorflow.keras import datasets, layers, models\n",
    "import matplotlib.pyplot as plt\n",
    "import numpy as np\n",
    "%matplotlib inline"
   ]
  },
  {
   "cell_type": "code",
   "execution_count": 2,
   "metadata": {},
   "outputs": [
    {
     "name": "stdout",
     "output_type": "stream",
     "text": [
      "Downloading data from https://www.cs.toronto.edu/~kriz/cifar-10-python.tar.gz\n",
      "170500096/170498071 [==============================] - 142s 1us/step\n"
     ]
    }
   ],
   "source": [
    "(X_train, y_train) , (X_test,y_test) = keras.datasets.cifar10.load_data() "
   ]
  },
  {
   "cell_type": "code",
   "execution_count": 80,
   "metadata": {},
   "outputs": [
    {
     "data": {
      "text/plain": [
       "<matplotlib.image.AxesImage at 0x284cda768c8>"
      ]
     },
     "execution_count": 80,
     "metadata": {},
     "output_type": "execute_result"
    },
    {
     "data": {
      "image/png": "[encoded data removed]",
      "text/plain": [
       "<Figure size 72x72 with 1 Axes>"
      ]
     },
     "metadata": {
      "needs_background": "light"
     },
     "output_type": "display_data"
    }
   ],
   "source": [
    "plt.figure(figsize=(1,1))\n",
    "plt.imshow(X_train[7])"
   ]
  },
  {
   "cell_type": "code",
   "execution_count": 25,
   "metadata": {},
   "outputs": [],
   "source": [
    "y_train = y_train.reshape(-1)\n",
    "y_test = y_test.reshape(-1) "
   ]
  },
  {
   "cell_type": "code",
   "execution_count": 27,
   "metadata": {},
   "outputs": [],
   "source": [
    "X_train = X_train / 255.0\n",
    "X_test = X_test / 255.0 "
   ]
  },
  {
   "cell_type": "code",
   "execution_count": 67,
   "metadata": {},
   "outputs": [],
   "source": [
    "cnn = keras.models.Sequential([\n",
    "    layers.Convolution2D(filters=64, kernel_size=(3,3), activation='relu', input_shape=(32,32,3)),\n",
    "    layers.MaxPooling2D((2,2)), \n",
    "    layers.Dropout(0.2), \n",
    "    \n",
    "    layers.Convolution2D(filters=128, kernel_size=(3,3), activation='relu'),\n",
    "    layers.MaxPooling2D((2,2)), \n",
    "    layers.Dropout(0.2), \n",
    "    \n",
    "    layers.Flatten(),\n",
    "    \n",
    "    layers.Dense(128, activation='relu'),\n",
    "    layers.Dropout(0.2), \n",
    "    layers.Dense(10, activation='softmax')\n",
    "])"
   ]
  },
  {
   "cell_type": "code",
   "execution_count": 68,
   "metadata": {},
   "outputs": [],
   "source": [
    "cnn.compile(optimizer='adam', loss='sparse_categorical_crossentropy', metrics=['accuracy']) "
   ]
  },
  {
   "cell_type": "code",
   "execution_count": 69,
   "metadata": {},
   "outputs": [
    {
     "name": "stdout",
     "output_type": "stream",
     "text": [
      "Train on 50000 samples\n",
      "Epoch 1/20\n",
      "50000/50000 [==============================] - 152s 3ms/sample - loss: 1.4886 - accuracy: 0.4606\n",
      "Epoch 2/20\n",
      "50000/50000 [==============================] - 150s 3ms/sample - loss: 1.1509 - accuracy: 0.5924\n",
      "Epoch 3/20\n",
      "50000/50000 [==============================] - 153s 3ms/sample - loss: 1.0214 - accuracy: 0.6414\n",
      "Epoch 4/20\n",
      "50000/50000 [==============================] - 156s 3ms/sample - loss: 0.9401 - accuracy: 0.6706\n",
      "Epoch 5/20\n",
      "50000/50000 [==============================] - 153s 3ms/sample - loss: 0.8716 - accuracy: 0.6956\n",
      "Epoch 6/20\n",
      "50000/50000 [==============================] - 157s 3ms/sample - loss: 0.8228 - accuracy: 0.7094\n",
      "Epoch 7/20\n",
      "50000/50000 [==============================] - 159s 3ms/sample - loss: 0.7656 - accuracy: 0.7294\n",
      "Epoch 8/20\n",
      "50000/50000 [==============================] - 152s 3ms/sample - loss: 0.7302 - accuracy: 0.7400\n",
      "Epoch 9/20\n",
      "50000/50000 [==============================] - 152s 3ms/sample - loss: 0.6981 - accuracy: 0.7525\n",
      "Epoch 10/20\n",
      "50000/50000 [==============================] - 171s 3ms/sample - loss: 0.6599 - accuracy: 0.7667\n",
      "Epoch 11/20\n",
      "50000/50000 [==============================] - 154s 3ms/sample - loss: 0.6356 - accuracy: 0.7718\n",
      "Epoch 12/20\n",
      "50000/50000 [==============================] - 146s 3ms/sample - loss: 0.6041 - accuracy: 0.7833\n",
      "Epoch 13/20\n",
      "50000/50000 [==============================] - 147s 3ms/sample - loss: 0.5856 - accuracy: 0.7900\n",
      "Epoch 14/20\n",
      "50000/50000 [==============================] - 145s 3ms/sample - loss: 0.5620 - accuracy: 0.7998\n",
      "Epoch 15/20\n",
      "50000/50000 [==============================] - 145s 3ms/sample - loss: 0.5461 - accuracy: 0.8037\n",
      "Epoch 16/20\n",
      "50000/50000 [==============================] - 158s 3ms/sample - loss: 0.5260 - accuracy: 0.8105\n",
      "Epoch 17/20\n",
      "50000/50000 [==============================] - 151s 3ms/sample - loss: 0.5156 - accuracy: 0.8171\n",
      "Epoch 18/20\n",
      "50000/50000 [==============================] - 152s 3ms/sample - loss: 0.4951 - accuracy: 0.8233\n",
      "Epoch 19/20\n",
      "50000/50000 [==============================] - 154s 3ms/sample - loss: 0.4859 - accuracy: 0.8247\n",
      "Epoch 20/20\n",
      "50000/50000 [==============================] - 152s 3ms/sample - loss: 0.4737 - accuracy: 0.8289\n"
     ]
    },
    {
     "data": {
      "text/plain": [
       "<tensorflow.python.keras.callbacks.History at 0x284cb8743c8>"
      ]
     },
     "execution_count": 69,
     "metadata": {},
     "output_type": "execute_result"
    }
   ],
   "source": [
    "cnn.fit(X_train, y_train, epochs=20) "
   ]
  },
  {
   "cell_type": "code",
   "execution_count": 70,
   "metadata": {},
   "outputs": [
    {
     "data": {
      "text/plain": [
       "[0.8632079184532165, 0.7349]"
      ]
     },
     "execution_count": 70,
     "metadata": {},
     "output_type": "execute_result"
    }
   ],
   "source": [
    "cnn.evaluate(X_test,y_test,verbose=0)"
   ]
  },
  {
   "cell_type": "code",
   "execution_count": 71,
   "metadata": {},
   "outputs": [],
   "source": [
    "y_pred = cnn.predict(X_test)"
   ]
  },
  {
   "cell_type": "code",
   "execution_count": 72,
   "metadata": {},
   "outputs": [
    {
     "data": {
      "text/plain": [
       "[3, 8, 9, 0, 6]"
      ]
     },
     "execution_count": 72,
     "metadata": {},
     "output_type": "execute_result"
    }
   ],
   "source": [
    "y_scores = [np.argmax(i) for i in y_pred]\n",
    "y_scores[:5]"
   ]
  },
  {
   "cell_type": "code",
   "execution_count": 73,
   "metadata": {},
   "outputs": [
    {
     "data": {
      "text/plain": [
       "array([3, 8, 8, 0, 6], dtype=uint8)"
      ]
     },
     "execution_count": 73,
     "metadata": {},
     "output_type": "execute_result"
    }
   ],
   "source": [
    "y_test[:5]"
   ]
  },
  {
   "cell_type": "code",
   "execution_count": null,
   "metadata": {},
   "outputs": [],
   "source": []
  }
 ],
 "metadata": {
  "kernelspec": {
   "display_name": "Python 3",
   "language": "python",
   "name": "python3"
  },
  "language_info": {
   "codemirror_mode": {
    "name": "ipython",
    "version": 3
   },
   "file_extension": ".py",
   "mimetype": "text/x-python",
   "name": "python",
   "nbconvert_exporter": "python",
   "pygments_lexer": "ipython3",
   "version": "3.7.6"
  }
 },
 "nbformat": 4,
 "nbformat_minor": 4
}
